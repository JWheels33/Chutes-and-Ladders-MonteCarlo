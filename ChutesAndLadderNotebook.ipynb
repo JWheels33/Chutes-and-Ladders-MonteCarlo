{
 "metadata": {
  "language_info": {
   "codemirror_mode": {
    "name": "ipython",
    "version": 3
   },
   "file_extension": ".py",
   "mimetype": "text/x-python",
   "name": "python",
   "nbconvert_exporter": "python",
   "pygments_lexer": "ipython3",
   "version": "3.7.1"
  },
  "orig_nbformat": 2,
  "kernelspec": {
   "name": "python3",
   "display_name": "Python 3.7.1 64-bit ('base': conda)"
  },
  "interpreter": {
   "hash": "398dc28c06ad810e77de546bbdfa897a6ee0b83e59a5207339dda01a7843e01d"
  }
 },
 "nbformat": 4,
 "nbformat_minor": 2,
 "cells": [
  {
   "cell_type": "markdown",
   "source": [
    "This came about from a drunken covid converstaion about Chutes and Ladders. \n",
    "The main question is this,\n",
    "1) How long can one expect a single chutes and ladder's game to last?\n",
    "\n",
    "The clear inputs are as follows - \n",
    "1) The board state/size (for our purposes, it makes sense just to use the typical chutes and ladders board.)\n",
    "2) The number of players in the game. The more players there are, a deterministic game such as this is likely to end in fewer turns.\n"
   ],
   "metadata": {}
  },
  {
   "cell_type": "code",
   "execution_count": 1,
   "source": [
    "#imports\n",
    "import random\n",
    "\n",
    "# This is a set of variables for the whole function\n",
    "# This is the board, we'll start with 100 squares.\n",
    "# NOTE: there is ONE extra entry to make the board effectively start at 1\n",
    "board = [\n",
    "    0,            #0   \n",
    "    38,0,0,14,0,  #1-5\n",
    "    0,0,0,31,0,   #6-10\n",
    "    0,0,0,0,0,    #11-15\n",
    "    6,0,0,0,0,    #16-20\n",
    "    42,0,0,0,0,   #21-25\n",
    "    0,0,84,0,0,   #26-30\n",
    "    0,0,0,0,0,    #31-35\n",
    "    44,0,0,0,0,   #36-40\n",
    "    0,0,0,0,0,    #41-45\n",
    "    0,26,0,11,0,  #46-50\n",
    "    67,0,0,0,0,   #51-55\n",
    "    53,0,0,0,0,   #56-60\n",
    "    0,19,0,60,0,  #61-65\n",
    "    0,0,0,0,0,    #66-70\n",
    "    91,0,0,0,0,   #71-75\n",
    "    0,0,0,0,100,  #76-80\n",
    "    0,0,0,0,0,    #81-85\n",
    "    0,24,0,0,0,   #86-90\n",
    "    0,0,73,0,75,  #91-95\n",
    "    0,0,78,0,0    #96-100\n",
    "]\n",
    "\n",
    "\n",
    "#This is what we can \"roll\" with the spinner for each step\n",
    "\n",
    "diceSize=12\n"
   ],
   "outputs": [],
   "metadata": {}
  },
  {
   "cell_type": "code",
   "execution_count": 2,
   "source": [
    "#Helper class to print things out nice and pretty, optional to run\n",
    "class color:\n",
    "   PURPLE = '\\033[95m'\n",
    "   CYAN = '\\033[96m'\n",
    "   DARKCYAN = '\\033[36m'\n",
    "   BLUE = '\\033[94m'\n",
    "   GREEN = '\\033[92m'\n",
    "   YELLOW = '\\033[93m'\n",
    "   RED = '\\033[91m'\n",
    "   BOLD = '\\033[1m'\n",
    "   UNDERLINE = '\\033[4m'\n",
    "   END = '\\033[0m'\n",
    "\n",
    "def printInline(payload,colorOpt =''):\n",
    "    print(colorOpt + str(payload) + color.END, end=\"\", flush=True)\n"
   ],
   "outputs": [],
   "metadata": {}
  },
  {
   "cell_type": "code",
   "execution_count": 3,
   "source": [
    "# This should be a single-game simulation. It will take in the gameboard, the number of players, \n",
    "# and then returns the number of turns it takes to end the game\n",
    "def simulateOneGame(players):\n",
    "    #the Position actually starts off the board on position 0\n",
    "    playerPositions=[0] * players\n",
    "    turnCounter=0 #This should increment every turn\n",
    "\n",
    "    while(noPlayerHasWon(playerPositions,len(board)-1)):\n",
    "        turnCounter+=1\n",
    "        for x in range(players):\n",
    "            diceRoll = random.randint(1,diceSize)\n",
    "            playerPositions[x]=movePosition(playerPositions[x],diceRoll)\n",
    "        \n",
    "    return turnCounter\n",
    "\n",
    "#This will just return the new position of the \"character\" after a single roll\n",
    "def movePosition(playerPosition,roll):\n",
    "    #Do the actual game logic\n",
    "    newPosition=playerPosition+roll\n",
    "    if(newPosition>len(board)-1):\n",
    "        return True\n",
    "    if(board[newPosition]>0):\n",
    "        newPosition=board[newPosition]\n",
    "    return newPosition\n",
    "\n",
    "# Outsourcing the logic to determine if a player has won.\n",
    "# We only have to do this once per round, since if more than one player wins in the\n",
    "# same round, thi swill not effect the outcome \n",
    "def noPlayerHasWon(playerPositions,endPosition):\n",
    "    for playerPosition in playerPositions:\n",
    "        if playerPosition >= endPosition: \n",
    "            return False\n",
    "    return True\n"
   ],
   "outputs": [],
   "metadata": {}
  },
  {
   "cell_type": "code",
   "execution_count": 4,
   "source": [
    "numSims=40000\n",
    "turns=[0]*numSims\n",
    "players=2\n",
    "minTurns=1000\n",
    "\n",
    "for i in range(numSims):\n",
    "    turns[i]=simulateOneGame(players)\n",
    "    minTurns=min(minTurns,turns[i])\n",
    "\n",
    "avg = sum(turns)/len(turns)\n",
    "\n",
    "#How many Players?\n",
    "print(\"The average number of turns for a game with [\", end=\"\", flush=True)\n",
    "printInline(players,color.CYAN)\n",
    "print(\"] players\")\n",
    "\n",
    "#How many simulations?\n",
    "print(\"Run across [\", end=\"\", flush=True)\n",
    "printInline(numSims,color.CYAN)\n",
    "printInline(\"] simulations is: \")\n",
    "\n",
    "#average\n",
    "print(color.RED + str(avg) + color.END)\n",
    "\n",
    "#minimum\n",
    "printInline(\"The minumum is: \")\n",
    "printInline(minTurns,color.RED)\n",
    "\n",
    "priInline(\"The median is: \")\n",
    "#printInline(statistics.median(turns),color.RED)\n",
    "\n",
    "\n"
   ],
   "outputs": [
    {
     "output_type": "stream",
     "name": "stdout",
     "text": [
      "The average number of turns for a game with [\u001b[96m2\u001b[0m] players\n",
      "Run across [\u001b[96m40000\u001b[0m] simulations is: \u001b[0m\u001b[91m29.698575\u001b[0m\n",
      "The minumum is: \u001b[0m\u001b[91m5\u001b[0mThe median is: \u001b[0m"
     ]
    }
   ],
   "metadata": {}
  },
  {
   "cell_type": "code",
   "execution_count": null,
   "source": [],
   "outputs": [],
   "metadata": {}
  }
 ]
}